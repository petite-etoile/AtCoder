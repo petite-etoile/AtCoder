{
 "cells": [
  {
   "cell_type": "code",
   "execution_count": 3,
   "metadata": {},
   "outputs": [
    {
     "name": "stdout",
     "output_type": "stream",
     "text": [
      "3.51 s ± 20.4 ms per loop (mean ± std. dev. of 7 runs, 1 loop each)\n",
      "562 ms ± 3.33 ms per loop (mean ± std. dev. of 7 runs, 1 loop each)\n",
      "457 ms ± 4.59 ms per loop (mean ± std. dev. of 7 runs, 1 loop each)\n",
      "611 ms ± 15.5 ms per loop (mean ± std. dev. of 7 runs, 1 loop each)\n",
      "109 ms ± 1.65 ms per loop (mean ± std. dev. of 7 runs, 10 loops each)\n"
     ]
    }
   ],
   "source": [
    "N = 10**7\n",
    "dic_tup = {(i,i):i for i in range(N)}\n",
    "dic_int = {i:i for i in range(N)}\n",
    "lis = [i for i in range(N)]\n",
    "lis2 = [[i]*2 for i in range(N)]\n",
    "\n",
    "%timeit for i in range(N): dic_tup[i,i]\n",
    "%timeit for i in range(N): dic_int[i]\n",
    "%timeit for i in range(N): lis[i]\n",
    "%timeit for i in range(N): lis2[i][0]\n",
    "%timeit for i in lis: i"
   ]
  },
  {
   "cell_type": "code",
   "execution_count": 10,
   "metadata": {},
   "outputs": [],
   "source": [
    "from collections import defaultdict\n",
    "edge1 = defaultdict(list)\n",
    "edge2 = [[] for _ in range(N)]\n",
    "\n",
    "\n"
   ]
  },
  {
   "cell_type": "code",
   "execution_count": 11,
   "metadata": {},
   "outputs": [
    {
     "name": "stdout",
     "output_type": "stream",
     "text": [
      "1.6 s ± 196 ms per loop (mean ± std. dev. of 7 runs, 1 loop each)\n"
     ]
    }
   ],
   "source": [
    "%%timeit\n",
    "for i in range(N):\n",
    "    edge[i%12345]+=[13]\n",
    "    #edge[i%12345].append(13)\n",
    "        "
   ]
  },
  {
   "cell_type": "code",
   "execution_count": 12,
   "metadata": {},
   "outputs": [
    {
     "name": "stdout",
     "output_type": "stream",
     "text": [
      "1.67 s ± 384 ms per loop (mean ± std. dev. of 7 runs, 1 loop each)\n"
     ]
    }
   ],
   "source": [
    "%%timeit\n",
    "for i in range(N):\n",
    "    edge[i%12345].append(13)\n",
    "\n"
   ]
  },
  {
   "cell_type": "code",
   "execution_count": null,
   "metadata": {},
   "outputs": [],
   "source": []
  }
 ],
 "metadata": {
  "kernelspec": {
   "display_name": "Python 3",
   "language": "python",
   "name": "python3"
  },
  "language_info": {
   "codemirror_mode": {
    "name": "ipython",
    "version": 3
   },
   "file_extension": ".py",
   "mimetype": "text/x-python",
   "name": "python",
   "nbconvert_exporter": "python",
   "pygments_lexer": "ipython3",
   "version": "3.7.3"
  }
 },
 "nbformat": 4,
 "nbformat_minor": 2
}
